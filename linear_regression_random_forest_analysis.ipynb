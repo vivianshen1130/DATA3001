{
 "cells": [
  {
   "cell_type": "code",
   "execution_count": 1,
   "metadata": {},
   "outputs": [
    {
     "name": "stderr",
     "output_type": "stream",
     "text": [
      "C:\\Users\\jingj\\Anaconda3\\lib\\site-packages\\statsmodels\\tools\\_testing.py:19: FutureWarning: pandas.util.testing is deprecated. Use the functions in the public API at pandas.testing instead.\n",
      "  import pandas.util.testing as tm\n"
     ]
    }
   ],
   "source": [
    "import numpy as np\n",
    "import pandas as pd\n",
    "import seaborn as sns\n",
    "import matplotlib as plt\n",
    "import json\n",
    "import sklearn\n",
    "from sklearn import tree\n",
    "from math import log\n",
    "\n",
    "from sklearn.datasets import make_regression\n",
    "from sklearn.linear_model import LinearRegression\n",
    "from matplotlib import pyplot\n",
    "from sklearn.datasets import make_regression\n",
    "from sklearn.tree import DecisionTreeClassifier\n",
    "from sklearn.ensemble import RandomForestRegressor\n",
    "from sklearn.preprocessing import minmax_scale\n",
    "from sklearn.preprocessing import LabelEncoder\n",
    "from sklearn.metrics import mean_squared_error\n",
    "from sklearn.feature_selection import RFE\n",
    "from sklearn.model_selection import RandomizedSearchCV"
   ]
  },
  {
   "cell_type": "code",
   "execution_count": 2,
   "metadata": {},
   "outputs": [],
   "source": [
    "note = pd.read_json(\"data_4.txt\")"
   ]
  },
  {
   "cell_type": "code",
   "execution_count": 28,
   "metadata": {},
   "outputs": [
    {
     "data": {
      "text/plain": [
       "Index(['gold', 'rerolls', 'units', 'move_freq', 'main_trait_Astro',\n",
       "       'main_trait_Battlecast', 'main_trait_Blaster', 'main_trait_Chrono',\n",
       "       'main_trait_Cybernetic', 'main_trait_DarkStar',\n",
       "       'main_trait_Demolitionist', 'main_trait_Infiltrator',\n",
       "       'main_trait_ManaReaver', 'main_trait_MechPilot', 'main_trait_Mercenary',\n",
       "       'main_trait_Paragon', 'main_trait_Protector', 'main_trait_Rebel',\n",
       "       'main_trait_Set3_Blademaster', 'main_trait_Set3_Brawler',\n",
       "       'main_trait_Set3_Celestial', 'main_trait_Set3_Mystic',\n",
       "       'main_trait_Set3_Sorcerer', 'main_trait_Sniper',\n",
       "       'main_trait_SpacePirate', 'main_trait_StarGuardian',\n",
       "       'main_trait_Starship', 'main_trait_Vanguard'],\n",
       "      dtype='object')"
      ]
     },
     "execution_count": 28,
     "metadata": {},
     "output_type": "execute_result"
    }
   ],
   "source": [
    "import pandas as pd\n",
    "from sklearn.preprocessing import MinMaxScaler\n",
    "\n",
    "scaler = MinMaxScaler()\n",
    "\n",
    "note[['gold', 'rerolls', 'units', 'move_freq']] = scaler.fit_transform(note[['gold', 'rerolls', 'units', 'move_freq']])\n",
    "\n",
    "#X = note[['gold', 'rerolls', 'units', 'move_freq', 'main_trait_encoded']]\n",
    "\n",
    "X1 = note[['gold', 'rerolls', 'units', 'move_freq', 'main_trait']]\n",
    "# labelencoder = LabelEncoder()\n",
    "# note['main_trait_encoded'] = labelencoder.fit_transform(note['main_trait'])\n",
    "\n",
    "X2 = note[['gold', 'rerolls', 'units', 'move_freq']]\n",
    "\n",
    "X3 = note[['gold', 'rerolls', 'units']]\n",
    "\n",
    "\n",
    "X1 = pd.get_dummies(X1)\n",
    "\n",
    "X1 = X1.drop(columns=['main_trait_None'])\n",
    "\n",
    "y = note[['rank']]\n",
    "\n",
    "\n",
    "X1.columns"
   ]
  },
  {
   "cell_type": "markdown",
   "metadata": {},
   "source": [
    "Linear Regression"
   ]
  },
  {
   "cell_type": "code",
   "execution_count": 23,
   "metadata": {},
   "outputs": [
    {
     "name": "stdout",
     "output_type": "stream",
     "text": [
      "R_sq score\n",
      "0.09827684954451577\n",
      "0.09797992364248553\n",
      "[-2.50323552e+01  2.79055376e+00 -1.19529558e+01  3.99730008e-02\n",
      " -1.28071714e-01  4.49379109e-02  2.78439731e-02 -5.91434370e-02\n",
      "  2.22027514e-03  2.70448072e-02 -2.14221856e-01  3.26753762e-02\n",
      "  6.76357695e-01 -8.70213824e-02 -6.55034093e-02 -2.34493747e-01\n",
      "  2.81596870e-02  1.36309599e-02  2.76630853e-02 -2.19228946e-02\n",
      "  3.06371575e-02 -6.89644621e-02  7.34044788e-02 -3.27837149e-02\n",
      "  2.05639750e-03  3.32354118e-02 -1.40992899e-01  4.62725252e-02]\n",
      "gold: -25.03236\n",
      "rerolls: 2.79055\n",
      "units: -11.95296\n",
      "move_freq: 0.03997\n",
      "main_trait_Astro: -0.12807\n",
      "main_trait_Battlecast: 0.04494\n",
      "main_trait_Blaster: 0.02784\n",
      "main_trait_Chrono: -0.05914\n",
      "main_trait_Cybernetic: 0.00222\n",
      "main_trait_DarkStar: 0.02704\n",
      "main_trait_Demolitionist: -0.21422\n",
      "main_trait_Infiltrator: 0.03268\n",
      "main_trait_ManaReaver: 0.67636\n",
      "main_trait_MechPilot: -0.08702\n",
      "main_trait_Mercenary: -0.06550\n",
      "main_trait_Paragon: -0.23449\n",
      "main_trait_Protector: 0.02816\n",
      "main_trait_Rebel: 0.01363\n",
      "main_trait_Set3_Blademaster: 0.02766\n",
      "main_trait_Set3_Brawler: -0.02192\n",
      "main_trait_Set3_Celestial: 0.03064\n",
      "main_trait_Set3_Mystic: -0.06896\n",
      "main_trait_Set3_Sorcerer: 0.07340\n",
      "main_trait_Sniper: -0.03278\n",
      "main_trait_SpacePirate: 0.00206\n",
      "main_trait_StarGuardian: 0.03324\n",
      "main_trait_Starship: -0.14099\n",
      "main_trait_Vanguard: 0.04627\n"
     ]
    },
    {
     "data": {
      "image/png": "[encoded data removed]",
      "text/plain": [
       "<Figure size 720x216 with 1 Axes>"
      ]
     },
     "metadata": {
      "needs_background": "light"
     },
     "output_type": "display_data"
    }
   ],
   "source": [
    "# define the model\n",
    "model = LinearRegression()\n",
    "model2 = LinearRegression()\n",
    "model3 = LinearRegression()\n",
    "# fit the model\n",
    "model.fit(X1, y)\n",
    "\n",
    "print(\"R_sq score\")\n",
    "print(model.score(X1, y))\n",
    "\n",
    "model2.fit(X2,y)\n",
    "\n",
    "print(model2.score(X2,y))\n",
    "\n",
    "model3.fit(X3,y)\n",
    "# get importance\n",
    "importance = model.coef_\n",
    "\n",
    "print(importance[0])\n",
    "\n",
    "#summarize feature importance\n",
    "for i,v in zip(X1.columns, importance[0]):\n",
    "    print('%s: %.5f' % (i,v))\n",
    "    \n",
    "# plot feature importance\n",
    "pyplot.figure(figsize=(10, 3))\n",
    "pyplot.bar([x for x in range(len(importance[0]))], importance[0], align='edge', width = 0.7)\n",
    "pyplot.xticks([x for x in range(len(importance[0]))], X1.columns, rotation='vertical')\n",
    "pyplot.show()"
   ]
  },
  {
   "cell_type": "code",
   "execution_count": 8,
   "metadata": {},
   "outputs": [
    {
     "name": "stdout",
     "output_type": "stream",
     "text": [
      "Number of parameters: 29\n",
      "MSE: 5.076\n",
      "BIC: 166042.466\n",
      "Number of parameters: 5\n",
      "MSE: 5.078\n",
      "BIC: 165799.262\n",
      "Number of parameters: 4\n",
      "MSE: 5.078\n",
      "BIC: 165787.945\n"
     ]
    }
   ],
   "source": [
    "def calculate_bic(n, mse, num_params):\n",
    "    bic = n * log(mse) + num_params * log(n)\n",
    "    return bic\n",
    "\n",
    "#------model1------------\n",
    "\n",
    "# number of parameters\n",
    "# num_params = len(model.coef_) + 1\n",
    "num_params = 28 + 1\n",
    "print('Number of parameters: %d' % (num_params))\n",
    "# predict the training set\n",
    "yhat = model.predict(X1)\n",
    "# calculate the error\n",
    "mse = mean_squared_error(y, yhat)\n",
    "print('MSE: %.3f' % mse)\n",
    "# calculate the bic\n",
    "bic = calculate_bic(len(y), mse, num_params)\n",
    "print('BIC: %.3f' % bic)\n",
    "\n",
    "\n",
    "#------model2------------\n",
    "num_params = 4 + 1\n",
    "print('Number of parameters: %d' % (num_params))\n",
    "# predict the training set\n",
    "yhat = model2.predict(X2)\n",
    "# calculate the error\n",
    "mse = mean_squared_error(y, yhat)\n",
    "print('MSE: %.3f' % mse)\n",
    "# calculate the bic\n",
    "bic = calculate_bic(len(y), mse, num_params)\n",
    "print('BIC: %.3f' % bic)\n",
    "\n",
    "\n",
    "#------model3------------\n",
    "num_params = 3 + 1\n",
    "print('Number of parameters: %d' % (num_params))\n",
    "# predict the training set\n",
    "yhat = model3.predict(X3)\n",
    "# calculate the error\n",
    "mse = mean_squared_error(y, yhat)\n",
    "print('MSE: %.3f' % mse)\n",
    "# calculate the bic\n",
    "bic = calculate_bic(len(y), mse, num_params)\n",
    "print('BIC: %.3f' % bic)"
   ]
  },
  {
   "cell_type": "code",
   "execution_count": 9,
   "metadata": {},
   "outputs": [
    {
     "name": "stderr",
     "output_type": "stream",
     "text": [
      "C:\\Users\\jingj\\Anaconda3\\lib\\site-packages\\sklearn\\utils\\validation.py:724: DataConversionWarning: A column-vector y was passed when a 1d array was expected. Please change the shape of y to (n_samples, ), for example using ravel().\n",
      "  y = column_or_1d(y, warn=True)\n"
     ]
    },
    {
     "name": "stdout",
     "output_type": "stream",
     "text": [
      "[ True  True  True  True  True  True  True  True  True  True  True  True\n",
      "  True  True  True  True  True  True  True  True  True  True  True  True\n",
      "  True  True  True  True]\n",
      "[1 1 1 1 1 1 1 1 1 1 1 1 1 1 1 1 1 1 1 1 1 1 1 1 1 1 1 1]\n"
     ]
    }
   ],
   "source": [
    "rfe = RFE(model, 28)\n",
    "#Transforming data using RFE\n",
    "X_rfe = rfe.fit_transform(X1,y)  \n",
    "#Fitting the data to model\n",
    "model.fit(X_rfe,y)\n",
    "print(rfe.support_)\n",
    "print(rfe.ranking_)"
   ]
  },
  {
   "cell_type": "code",
   "execution_count": 10,
   "metadata": {},
   "outputs": [
    {
     "name": "stderr",
     "output_type": "stream",
     "text": [
      "C:\\Users\\jingj\\Anaconda3\\lib\\site-packages\\sklearn\\utils\\validation.py:724: DataConversionWarning: A column-vector y was passed when a 1d array was expected. Please change the shape of y to (n_samples, ), for example using ravel().\n",
      "  y = column_or_1d(y, warn=True)\n"
     ]
    },
    {
     "name": "stdout",
     "output_type": "stream",
     "text": [
      "[ True  True  True  True]\n",
      "[1 1 1 1]\n"
     ]
    }
   ],
   "source": [
    "rfe = RFE(model2, 4)\n",
    "#Transforming data using RFE\n",
    "X_rfe = rfe.fit_transform(X2,y)  \n",
    "#Fitting the data to model\n",
    "model.fit(X_rfe,y)\n",
    "print(rfe.support_)\n",
    "print(rfe.ranking_)"
   ]
  },
  {
   "cell_type": "markdown",
   "metadata": {},
   "source": [
    "Random Forest"
   ]
  },
  {
   "cell_type": "code",
   "execution_count": 39,
   "metadata": {},
   "outputs": [
    {
     "name": "stderr",
     "output_type": "stream",
     "text": [
      "C:\\Users\\jingj\\Anaconda3\\lib\\site-packages\\ipykernel_launcher.py:4: DataConversionWarning: A column-vector y was passed when a 1d array was expected. Please change the shape of y to (n_samples,), for example using ravel().\n",
      "  after removing the cwd from sys.path.\n"
     ]
    },
    {
     "name": "stdout",
     "output_type": "stream",
     "text": [
      "gold: 0.51791\n",
      "rerolls: 0.12226\n",
      "units: 0.11600\n",
      "move_freq: 0.11303\n",
      "main_trait_Astro: 0.00250\n",
      "main_trait_Battlecast: 0.00855\n",
      "main_trait_Blaster: 0.00452\n",
      "main_trait_Chrono: 0.00717\n",
      "main_trait_Cybernetic: 0.00943\n",
      "main_trait_DarkStar: 0.00825\n",
      "main_trait_Demolitionist: 0.00032\n",
      "main_trait_Infiltrator: 0.00380\n",
      "main_trait_ManaReaver: 0.00013\n",
      "main_trait_MechPilot: 0.00477\n",
      "main_trait_Mercenary: 0.00005\n",
      "main_trait_Paragon: 0.00008\n",
      "main_trait_Protector: 0.00686\n",
      "main_trait_Rebel: 0.00532\n",
      "main_trait_Set3_Blademaster: 0.01093\n",
      "main_trait_Set3_Brawler: 0.00430\n",
      "main_trait_Set3_Celestial: 0.00761\n",
      "main_trait_Set3_Mystic: 0.00429\n",
      "main_trait_Set3_Sorcerer: 0.00479\n",
      "main_trait_Sniper: 0.00764\n",
      "main_trait_SpacePirate: 0.01072\n",
      "main_trait_StarGuardian: 0.01212\n",
      "main_trait_Starship: 0.00003\n",
      "main_trait_Vanguard: 0.00664\n"
     ]
    },
    {
     "data": {
      "image/png": "[encoded data removed]",
      "text/plain": [
       "<Figure size 720x216 with 1 Axes>"
      ]
     },
     "metadata": {
      "needs_background": "light"
     },
     "output_type": "display_data"
    },
    {
     "name": "stdout",
     "output_type": "stream",
     "text": [
      "0.8972396157913067\n",
      "{'bootstrap': True, 'criterion': 'mse', 'max_depth': None, 'max_features': 'auto', 'max_leaf_nodes': None, 'min_impurity_decrease': 0.0, 'min_impurity_split': None, 'min_samples_leaf': 1, 'min_samples_split': 2, 'min_weight_fraction_leaf': 0.0, 'n_estimators': 10, 'n_jobs': None, 'oob_score': False, 'random_state': None, 'verbose': 0, 'warm_start': False}\n"
     ]
    }
   ],
   "source": [
    "# define the model\n",
    "model = RandomForestRegressor(n_estimators = 10)\n",
    "# fit the model\n",
    "model.fit(X1, y)\n",
    "# get importance\n",
    "importance = model.feature_importances_\n",
    "# summarize feature importance\n",
    "for i,v in zip(X1.columns, importance):\n",
    "    print('%s: %.5f' % (i,v))\n",
    "# plot feature importance\n",
    "model.feature_importances_\n",
    "\n",
    "pyplot.figure(figsize=(10, 3))\n",
    "pyplot.bar( range(len(model.feature_importances_)), model.feature_importances_, align='edge', width = 0.7)\n",
    "pyplot.xticks(range(len(model.feature_importances_)), X1.columns, rotation='vertical')\n",
    "pyplot.show()\n",
    "\n",
    "\n",
    "print(model.score(X1, y))\n",
    "print(model.get_params())"
   ]
  },
  {
   "cell_type": "code",
   "execution_count": 40,
   "metadata": {},
   "outputs": [
    {
     "name": "stderr",
     "output_type": "stream",
     "text": [
      "C:\\Users\\jingj\\Anaconda3\\lib\\site-packages\\ipykernel_launcher.py:4: DataConversionWarning: A column-vector y was passed when a 1d array was expected. Please change the shape of y to (n_samples,), for example using ravel().\n",
      "  after removing the cwd from sys.path.\n"
     ]
    },
    {
     "name": "stdout",
     "output_type": "stream",
     "text": [
      "gold: 0.51785\n",
      "rerolls: 0.12198\n",
      "units: 0.11626\n",
      "move_freq: 0.11362\n",
      "main_trait_Astro: 0.00251\n",
      "main_trait_Battlecast: 0.00881\n",
      "main_trait_Blaster: 0.00451\n",
      "main_trait_Chrono: 0.00717\n",
      "main_trait_Cybernetic: 0.00903\n",
      "main_trait_DarkStar: 0.00851\n",
      "main_trait_Demolitionist: 0.00034\n",
      "main_trait_Infiltrator: 0.00384\n",
      "main_trait_ManaReaver: 0.00012\n",
      "main_trait_MechPilot: 0.00477\n",
      "main_trait_Mercenary: 0.00005\n",
      "main_trait_Paragon: 0.00008\n",
      "main_trait_Protector: 0.00696\n",
      "main_trait_Rebel: 0.00540\n",
      "main_trait_Set3_Blademaster: 0.01064\n",
      "main_trait_Set3_Brawler: 0.00419\n",
      "main_trait_Set3_Celestial: 0.00761\n",
      "main_trait_Set3_Mystic: 0.00418\n",
      "main_trait_Set3_Sorcerer: 0.00463\n",
      "main_trait_Sniper: 0.00747\n",
      "main_trait_SpacePirate: 0.01082\n",
      "main_trait_StarGuardian: 0.01194\n",
      "main_trait_Starship: 0.00003\n",
      "main_trait_Vanguard: 0.00669\n"
     ]
    },
    {
     "data": {
      "image/png": "[encoded data removed]",
      "text/plain": [
       "<Figure size 720x216 with 1 Axes>"
      ]
     },
     "metadata": {
      "needs_background": "light"
     },
     "output_type": "display_data"
    },
    {
     "name": "stdout",
     "output_type": "stream",
     "text": [
      "0.9247134040254257\n",
      "{'bootstrap': True, 'criterion': 'mse', 'max_depth': None, 'max_features': 'auto', 'max_leaf_nodes': None, 'min_impurity_decrease': 0.0, 'min_impurity_split': None, 'min_samples_leaf': 1, 'min_samples_split': 2, 'min_weight_fraction_leaf': 0.0, 'n_estimators': 100, 'n_jobs': None, 'oob_score': False, 'random_state': None, 'verbose': 0, 'warm_start': False}\n"
     ]
    }
   ],
   "source": [
    "# define the model\n",
    "model = RandomForestRegressor(n_estimators = 100)\n",
    "# fit the model\n",
    "model.fit(X1, y)\n",
    "# get importance\n",
    "importance = model.feature_importances_\n",
    "# summarize feature importance\n",
    "for i,v in zip(X1.columns, importance):\n",
    "    print('%s: %.5f' % (i,v))\n",
    "# plot feature importance\n",
    "model.feature_importances_\n",
    "\n",
    "pyplot.figure(figsize=(10, 3))\n",
    "pyplot.bar( range(len(model.feature_importances_)), model.feature_importances_, align='edge', width = 0.7)\n",
    "pyplot.xticks(range(len(model.feature_importances_)), X1.columns, rotation='vertical')\n",
    "pyplot.show()\n",
    "\n",
    "\n",
    "print(model.score(X1, y))\n",
    "print(model.get_params())"
   ]
  },
  {
   "cell_type": "code",
   "execution_count": 30,
   "metadata": {},
   "outputs": [],
   "source": [
    "# Number of trees in random forest\n",
    "n_estimators = [int(x) for x in np.linspace(start = 10, stop = 200, num = 10)]\n",
    "# Number of features to consider at every split\n",
    "max_features = ['auto', 'sqrt']\n",
    "# Maximum number of levels in tree\n",
    "max_depth = [int(x) for x in np.linspace(10, 110, num = 11)]\n",
    "max_depth.append(None)\n",
    "# Minimum number of samples required to split a node\n",
    "min_samples_split = [2, 5, 10]\n",
    "# Minimum number of samples required at each leaf node\n",
    "min_samples_leaf = [1, 2, 4]\n",
    "# Method of selecting samples for training each tree\n",
    "bootstrap = [True, False]\n",
    "\n",
    "random_grid = {'n_estimators': n_estimators,\n",
    "               'max_features': max_features,\n",
    "               'max_depth': max_depth,\n",
    "               'min_samples_split': min_samples_split,\n",
    "               'min_samples_leaf': min_samples_leaf,\n",
    "               'bootstrap': bootstrap}"
   ]
  },
  {
   "cell_type": "code",
   "execution_count": 31,
   "metadata": {},
   "outputs": [
    {
     "name": "stdout",
     "output_type": "stream",
     "text": [
      "Fitting 3 folds for each of 100 candidates, totalling 300 fits\n"
     ]
    },
    {
     "name": "stderr",
     "output_type": "stream",
     "text": [
      "[Parallel(n_jobs=-1)]: Using backend LokyBackend with 4 concurrent workers.\n",
      "[Parallel(n_jobs=-1)]: Done  33 tasks      | elapsed:  7.8min\n",
      "[Parallel(n_jobs=-1)]: Done 154 tasks      | elapsed: 35.8min\n",
      "[Parallel(n_jobs=-1)]: Done 300 out of 300 | elapsed: 71.5min finished\n",
      "C:\\Users\\jingj\\Anaconda3\\lib\\site-packages\\sklearn\\model_selection\\_search.py:715: DataConversionWarning: A column-vector y was passed when a 1d array was expected. Please change the shape of y to (n_samples,), for example using ravel().\n",
      "  self.best_estimator_.fit(X, y, **fit_params)\n"
     ]
    },
    {
     "data": {
      "text/plain": [
       "RandomizedSearchCV(cv=3, error_score='raise-deprecating',\n",
       "                   estimator=RandomForestRegressor(bootstrap=True,\n",
       "                                                   criterion='mse',\n",
       "                                                   max_depth=None,\n",
       "                                                   max_features='auto',\n",
       "                                                   max_leaf_nodes=None,\n",
       "                                                   min_impurity_decrease=0.0,\n",
       "                                                   min_impurity_split=None,\n",
       "                                                   min_samples_leaf=1,\n",
       "                                                   min_samples_split=2,\n",
       "                                                   min_weight_fraction_leaf=0.0,\n",
       "                                                   n_estimators='warn',\n",
       "                                                   n_jobs=None, oob_score=False,\n",
       "                                                   random_sta...\n",
       "                   iid='warn', n_iter=100, n_jobs=-1,\n",
       "                   param_distributions={'bootstrap': [True, False],\n",
       "                                        'max_depth': [10, 20, 30, 40, 50, 60,\n",
       "                                                      70, 80, 90, 100, 110,\n",
       "                                                      None],\n",
       "                                        'max_features': ['auto', 'sqrt'],\n",
       "                                        'min_samples_leaf': [1, 2, 4],\n",
       "                                        'min_samples_split': [2, 5, 10],\n",
       "                                        'n_estimators': [10, 31, 52, 73, 94,\n",
       "                                                         115, 136, 157, 178,\n",
       "                                                         200]},\n",
       "                   pre_dispatch='2*n_jobs', random_state=42, refit=True,\n",
       "                   return_train_score=False, scoring=None, verbose=2)"
      ]
     },
     "execution_count": 31,
     "metadata": {},
     "output_type": "execute_result"
    }
   ],
   "source": [
    "# Use the random grid to search for best hyperparameters\n",
    "# First create the base model to tune\n",
    "rf = RandomForestRegressor()\n",
    "# Random search of parameters, using 3 fold cross validation, \n",
    "# search across 100 different combinations, and use all available cores\n",
    "rf_random = RandomizedSearchCV(estimator = rf, param_distributions = random_grid, n_iter = 100, cv = 3, verbose=2, random_state=42, n_jobs = -1)\n",
    "# Fit the random search model\n",
    "rf_random.fit(X1, y)"
   ]
  },
  {
   "cell_type": "code",
   "execution_count": 35,
   "metadata": {},
   "outputs": [
    {
     "data": {
      "text/plain": [
       "{'n_estimators': 157,\n",
       " 'min_samples_split': 5,\n",
       " 'min_samples_leaf': 1,\n",
       " 'max_features': 'auto',\n",
       " 'max_depth': 10,\n",
       " 'bootstrap': True}"
      ]
     },
     "execution_count": 35,
     "metadata": {},
     "output_type": "execute_result"
    }
   ],
   "source": [
    "rf_random.best_params_"
   ]
  },
  {
   "cell_type": "code",
   "execution_count": 44,
   "metadata": {},
   "outputs": [
    {
     "name": "stderr",
     "output_type": "stream",
     "text": [
      "C:\\Users\\jingj\\Anaconda3\\lib\\site-packages\\ipykernel_launcher.py:4: DataConversionWarning: A column-vector y was passed when a 1d array was expected. Please change the shape of y to (n_samples,), for example using ravel().\n",
      "  after removing the cwd from sys.path.\n"
     ]
    },
    {
     "name": "stdout",
     "output_type": "stream",
     "text": [
      "gold: 0.81484\n",
      "rerolls: 0.08041\n",
      "units: 0.07580\n",
      "move_freq: 0.01352\n",
      "main_trait_Astro: 0.00061\n",
      "main_trait_Battlecast: 0.00094\n",
      "main_trait_Blaster: 0.00062\n",
      "main_trait_Chrono: 0.00087\n",
      "main_trait_Cybernetic: 0.00097\n",
      "main_trait_DarkStar: 0.00092\n",
      "main_trait_Demolitionist: 0.00016\n",
      "main_trait_Infiltrator: 0.00065\n",
      "main_trait_ManaReaver: 0.00003\n",
      "main_trait_MechPilot: 0.00084\n",
      "main_trait_Mercenary: 0.00000\n",
      "main_trait_Paragon: 0.00004\n",
      "main_trait_Protector: 0.00082\n",
      "main_trait_Rebel: 0.00079\n",
      "main_trait_Set3_Blademaster: 0.00112\n",
      "main_trait_Set3_Brawler: 0.00076\n",
      "main_trait_Set3_Celestial: 0.00076\n",
      "main_trait_Set3_Mystic: 0.00063\n",
      "main_trait_Set3_Sorcerer: 0.00054\n",
      "main_trait_Sniper: 0.00073\n",
      "main_trait_SpacePirate: 0.00085\n",
      "main_trait_StarGuardian: 0.00100\n",
      "main_trait_Starship: 0.00002\n",
      "main_trait_Vanguard: 0.00074\n"
     ]
    },
    {
     "data": {
      "image/png": "[encoded data removed]",
      "text/plain": [
       "<Figure size 720x216 with 1 Axes>"
      ]
     },
     "metadata": {
      "needs_background": "light"
     },
     "output_type": "display_data"
    },
    {
     "name": "stdout",
     "output_type": "stream",
     "text": [
      "0.5367789734011807\n",
      "{'bootstrap': True, 'criterion': 'mse', 'max_depth': 10, 'max_features': 'auto', 'max_leaf_nodes': None, 'min_impurity_decrease': 0.0, 'min_impurity_split': None, 'min_samples_leaf': 1, 'min_samples_split': 5, 'min_weight_fraction_leaf': 0.0, 'n_estimators': 157, 'n_jobs': None, 'oob_score': False, 'random_state': None, 'verbose': 0, 'warm_start': False}\n"
     ]
    }
   ],
   "source": [
    "# define the model\n",
    "model = RandomForestRegressor(n_estimators = 157, min_samples_split = 5, min_samples_leaf = 1, max_features = 'auto', max_depth = 10, bootstrap = True)\n",
    "# fit the model\n",
    "model.fit(X1, y)\n",
    "# get importance\n",
    "importance = model.feature_importances_\n",
    "# summarize feature importance\n",
    "for i,v in zip(X1.columns, importance):\n",
    "    print('%s: %.5f' % (i,v))\n",
    "# plot feature importance\n",
    "model.feature_importances_\n",
    "\n",
    "pyplot.figure(figsize=(10, 3))\n",
    "pyplot.bar( range(len(model.feature_importances_)), model.feature_importances_, align='edge', width = 0.7)\n",
    "pyplot.xticks(range(len(model.feature_importances_)), X1.columns, rotation='vertical')\n",
    "pyplot.show()\n",
    "\n",
    "\n",
    "print(model.score(X1, y))\n",
    "print(model.get_params())"
   ]
  },
  {
   "cell_type": "code",
   "execution_count": 45,
   "metadata": {},
   "outputs": [
    {
     "name": "stdout",
     "output_type": "stream",
     "text": [
      "0.5367789734011807\n"
     ]
    }
   ],
   "source": [
    "print(model.score(X1, y))"
   ]
  }
 ],
 "metadata": {
  "kernelspec": {
   "display_name": "Python 3",
   "language": "python",
   "name": "python3"
  },
  "language_info": {
   "codemirror_mode": {
    "name": "ipython",
    "version": 3
   },
   "file_extension": ".py",
   "mimetype": "text/x-python",
   "name": "python",
   "nbconvert_exporter": "python",
   "pygments_lexer": "ipython3",
   "version": "3.7.4"
  }
 },
 "nbformat": 4,
 "nbformat_minor": 2
}
