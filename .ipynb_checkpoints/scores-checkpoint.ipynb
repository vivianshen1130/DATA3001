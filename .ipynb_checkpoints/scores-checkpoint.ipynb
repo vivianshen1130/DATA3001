{
 "cells": [
  {
   "cell_type": "code",
   "execution_count": null,
   "metadata": {},
   "outputs": [],
   "source": [
    "import numpy as np\n",
    "import pandas as pd\n",
    "import seaborn as sns\n",
    "import matplotlib as plt\n",
    "import json\n",
    "note_0 = pd.read_json(\"Onsearch_Dataset/export/export_0.json\")"
   ]
  },
  {
   "cell_type": "code",
   "execution_count": null,
   "metadata": {},
   "outputs": [],
   "source": [
    "# print(note_0.loc[0].scores)\n",
    "# print(note_0.loc[0].scores['kda'])\n",
    "# print(note_0.loc[0].scores['gold'])\n",
    "# print(note_0.loc[0].scores['comp'])"
   ]
  },
  {
   "cell_type": "code",
   "execution_count": null,
   "metadata": {},
   "outputs": [],
   "source": [
    "def conv(s):\n",
    "    if (s == 'S+'):\n",
    "        return 9\n",
    "    elif (s == 'S'):\n",
    "        return 8\n",
    "    elif (s == 'S-'):\n",
    "        return 7\n",
    "    elif (s == 'A+'):\n",
    "        return 6\n",
    "    elif (s == 'A'):\n",
    "        return 5\n",
    "    elif (s == 'A-'):\n",
    "        return 4\n",
    "    elif (s == 'B+'):\n",
    "        return 3\n",
    "    elif (s == 'B'):\n",
    "        return 2\n",
    "    elif (s == 'B-'):\n",
    "        return 1"
   ]
  },
  {
   "cell_type": "code",
   "execution_count": null,
   "metadata": {
    "scrolled": true
   },
   "outputs": [],
   "source": [
    "data = {}\n",
    "\n",
    "n = note_0\n",
    "for i in range(1, len(n)):\n",
    "    data[n.loc[i].id] = {}\n",
    "    data[n.loc[i].id] = ({\n",
    "        'kda': n.loc[i].scores['kda'],\n",
    "        'kda_score': conv(n.loc[i].scores['kda']),\n",
    "        'gold': n.loc[i].scores['gold'],\n",
    "        'gold_score': conv(n.loc[i].scores['gold']),\n",
    "        'comp': n.loc[i].scores['comp'],\n",
    "        'comp_score': conv(n.loc[i].scores['comp'])\n",
    "    })\n",
    "\n",
    "y = json.dumps(data)\n",
    "print(y)"
   ]
  },
  {
   "cell_type": "code",
   "execution_count": null,
   "metadata": {},
   "outputs": [],
   "source": [
    "pd.read_json(y, orient = 'index')"
   ]
  }
 ],
 "metadata": {
  "kernelspec": {
   "display_name": "Python 3",
   "language": "python",
   "name": "python3"
  },
  "language_info": {
   "codemirror_mode": {
    "name": "ipython",
    "version": 3
   },
   "file_extension": ".py",
   "mimetype": "text/x-python",
   "name": "python",
   "nbconvert_exporter": "python",
   "pygments_lexer": "ipython3",
   "version": "3.7.4"
  }
 },
 "nbformat": 4,
 "nbformat_minor": 2
}
